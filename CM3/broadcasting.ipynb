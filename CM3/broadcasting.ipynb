{
 "cells": [
  {
   "cell_type": "markdown",
   "metadata": {},
   "source": [
    "# Broadcasting"
   ]
  },
  {
   "cell_type": "code",
   "execution_count": null,
   "metadata": {},
   "outputs": [],
   "source": [
    "import numpy as np\n",
    "\n",
    "A = np.array([[1.],[2.],[3.],[4.]])\n",
    "B = np.array([[5.,-5.,5.,-5.,5.]])\n",
    "print(A)\n",
    "print(B)"
   ]
  },
  {
   "cell_type": "code",
   "execution_count": null,
   "metadata": {},
   "outputs": [],
   "source": [
    "print(A.shape)\n",
    "print(B.shape)"
   ]
  },
  {
   "cell_type": "code",
   "execution_count": null,
   "metadata": {},
   "outputs": [],
   "source": [
    "A + B"
   ]
  },
  {
   "cell_type": "markdown",
   "metadata": {},
   "source": [
    "## A simple experiment"
   ]
  },
  {
   "cell_type": "code",
   "execution_count": 9,
   "metadata": {},
   "outputs": [],
   "source": [
    "import time\n",
    "\n",
    "B = 64\n",
    "num_samples = 50000\n",
    "in_dim = 784\n",
    "out_dim = 500\n",
    "x = np.random.rand(num_samples, in_dim)\n",
    "W = np.random.rand(in_dim, out_dim)\n"
   ]
  },
  {
   "cell_type": "code",
   "execution_count": null,
   "metadata": {},
   "outputs": [],
   "source": [
    "result_naive = np.zeros((num_samples, out_dim))\n",
    "start_time = time.time()\n",
    "\n",
    "for batch_start in range(0, num_samples, B):\n",
    "    batch = x[batch_start:batch_start+B,:]\n",
    "    for i in range(len(batch)):\n",
    "        result_naive[batch_start+i, :] = batch[i] @ W\n",
    "end_time = time.time()\n",
    "naive_time = end_time - start_time\n",
    "\n",
    "print(f\"Naive Python loop matrix multiplication time: {naive_time:.6f} seconds\")"
   ]
  },
  {
   "cell_type": "code",
   "execution_count": null,
   "metadata": {},
   "outputs": [],
   "source": [
    "start_time = time.time()\n",
    "result_batched = np.zeros((num_samples,out_dim))\n",
    "for batch_start in range(0, num_samples, B):\n",
    "    batch = x[batch_start:batch_start+B,:]\n",
    "    result_batched[batch_start:batch_start+len(batch),:] = batch @ W\n",
    "end_time = time.time()\n",
    "batched_time = end_time - start_time\n",
    "\n",
    "print(f\"Result is the same: {np.isclose(result_naive, result_batched).all()}\")\n",
    "\n",
    "print(f\"Batched matrix multiplication time: {batched_time:.6f} seconds\")\n",
    "print(f\"Improvement factor: {(naive_time / batched_time):.1f} x\")"
   ]
  },
  {
   "cell_type": "markdown",
   "metadata": {},
   "source": [
    "## Broadcasting sometimes fails"
   ]
  },
  {
   "cell_type": "code",
   "execution_count": 13,
   "metadata": {},
   "outputs": [],
   "source": [
    "def try_broadcast(Adim, Bdim):\n",
    "    A, B = np.ones(Adim), np.ones(Bdim)\n",
    "    return A + B"
   ]
  },
  {
   "cell_type": "code",
   "execution_count": null,
   "metadata": {},
   "outputs": [],
   "source": [
    "try_broadcast((10),(5,1))"
   ]
  },
  {
   "cell_type": "code",
   "execution_count": null,
   "metadata": {},
   "outputs": [],
   "source": [
    "try_broadcast((10),(1,5))"
   ]
  },
  {
   "cell_type": "code",
   "execution_count": null,
   "metadata": {},
   "outputs": [],
   "source": [
    "try_broadcast((1,10),(1,10,1))"
   ]
  }
 ],
 "metadata": {
  "kernelspec": {
   "display_name": "iap",
   "language": "python",
   "name": "python3"
  },
  "language_info": {
   "codemirror_mode": {
    "name": "ipython",
    "version": 3
   },
   "file_extension": ".py",
   "mimetype": "text/x-python",
   "name": "python",
   "nbconvert_exporter": "python",
   "pygments_lexer": "ipython3",
   "version": "3.12.8"
  }
 },
 "nbformat": 4,
 "nbformat_minor": 2
}
