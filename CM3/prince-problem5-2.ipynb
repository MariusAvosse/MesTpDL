{
 "cells": [
  {
   "cell_type": "markdown",
   "metadata": {},
   "source": [
    "## Problem 5.2 in [Prince]"
   ]
  },
  {
   "cell_type": "markdown",
   "metadata": {},
   "source": [
    "The loss $L$ for binary classification for a single training pair $\\{\\mathbf{x},y\\}$ is:\n",
    "\n",
    "$$L = -(1-y) \\log[1-\\mathrm{sig}(f[\\mathbf{x},\\boldsymbol\\phi])] - y \\log[\\mathrm{sig}[f[\\mathbf{x},\\boldsymbol\\phi]]],$$\n",
    "\n",
    "where\n",
    "\n",
    "$$\\mathrm{sig}[z] = \\frac{1}{1+\\exp[-z]}.$$\n",
    "\n",
    "Plot this loss as a function of the transformed network output $\\mathrm{sig}[f[\\mathbf{x},\\boldsymbol\\phi]] \\in [0,1]$ when the training label $y = 0$ and when $y = 1$."
   ]
  },
  {
   "cell_type": "code",
   "execution_count": 1,
   "metadata": {},
   "outputs": [],
   "source": [
    "import numpy as np\n",
    "import plotly.graph_objects as go\n",
    "\n",
    "def sigmoid(z):\n",
    "    return 1 / (1 + np.exp(-z))\n",
    "\n",
    "def loss(y, sig):\n",
    "    return -(1 - y) * np.log(1 - sig) - y * np.log(sig)\n"
   ]
  },
  {
   "cell_type": "code",
   "execution_count": 2,
   "metadata": {},
   "outputs": [],
   "source": [
    "sig_values = np.linspace(0.01, 0.99, 100)\n",
    "\n",
    "loss_y0 = loss(0, sig_values)\n",
    "loss_y1 = loss(1, sig_values)"
   ]
  },
  {
   "cell_type": "code",
   "execution_count": null,
   "metadata": {},
   "outputs": [],
   "source": [
    "fig = go.Figure()\n",
    "fig.add_trace(go.Scatter(x=sig_values, y=loss_y0, mode='lines', name='y=0'))\n",
    "fig.add_trace(go.Scatter(x=sig_values, y=loss_y1, mode='lines', name='y=1'))\n",
    "\n",
    "fig.update_layout(\n",
    "    title=\"Loss as a function of the transformed network output\",\n",
    "    xaxis_title=\"sig[f[x,phi]]\",\n",
    "    yaxis_title=\"Loss\",\n",
    "    legend_title=\"Training Label\"\n",
    ")\n",
    "fig.show()"
   ]
  }
 ],
 "metadata": {
  "kernelspec": {
   "display_name": "iap",
   "language": "python",
   "name": "python3"
  },
  "language_info": {
   "codemirror_mode": {
    "name": "ipython",
    "version": 3
   },
   "file_extension": ".py",
   "mimetype": "text/x-python",
   "name": "python",
   "nbconvert_exporter": "python",
   "pygments_lexer": "ipython3",
   "version": "3.12.8"
  }
 },
 "nbformat": 4,
 "nbformat_minor": 2
}
