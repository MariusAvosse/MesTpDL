{
 "cells": [
  {
   "cell_type": "code",
   "execution_count": 32,
   "metadata": {},
   "outputs": [],
   "source": [
    "import numpy as np\n",
    "import time\n",
    "import matplotlib.pyplot as plt\n",
    "from load_fmnist import TEXT_LABELS, load_images, load_labels\n",
    "from softmax_reg import *\n",
    "\n",
    "# Constantes\n",
    "IN_DIM, OUT_DIM = 784, 10  # Dimension des images aplaties (28x28) et des classes\n",
    "np.random.seed(42)         # Reproductibilité des résultats\n"
   ]
  },
  {
   "cell_type": "code",
   "execution_count": 33,
   "metadata": {},
   "outputs": [
    {
     "name": "stdout",
     "output_type": "stream",
     "text": [
      "Data successfully loaded.\n"
     ]
    }
   ],
   "source": [
    "## Chargement et préparation des données\n",
    "# Chargement des données\n",
    "train_imgs = load_images()\n",
    "train_labels = load_labels()\n",
    "val_imgs = load_images(test=True)\n",
    "val_labels = load_labels(test=True)\n",
    "\n",
    "# Vérifications des dimensions\n",
    "assert train_imgs.shape == (60000, 28, 28)\n",
    "assert train_labels.shape == (60000,)\n",
    "assert val_imgs.shape == (10000, 28, 28)\n",
    "assert val_labels.shape == (10000,)\n",
    "\n",
    "# Aplatir les images\n",
    "train_imgs_flat = train_imgs.reshape(len(train_imgs), -1)\n",
    "val_imgs_flat = val_imgs.reshape(len(val_imgs), -1)\n",
    "assert train_imgs_flat.shape == (60000, 784)\n",
    "assert val_imgs_flat.shape == (10000, 784)\n",
    "\n",
    "print(\"Data successfully loaded.\")\n"
   ]
  },
  {
   "cell_type": "code",
   "execution_count": 34,
   "metadata": {},
   "outputs": [],
   "source": [
    "## Fonctions principales : softmax, perte et gradient\n",
    "def softmax_batch(o):\n",
    "    \"\"\"\n",
    "    Calcul vectorisé de la fonction softmax pour un batch.\n",
    "    \"\"\"\n",
    "    o_exp = np.exp(o - np.max(o, axis=1, keepdims=True))  # Stabilité numérique\n",
    "    return o_exp / np.sum(o_exp, axis=1, keepdims=True)\n",
    "\n",
    "\n",
    "def cross_entropy_loss_batch(probs, labels):\n",
    "    \"\"\"\n",
    "    Calcul vectorisé de la perte d'entropie croisée pour un batch.\n",
    "    \"\"\"\n",
    "    return -np.mean(np.log(probs[np.arange(len(labels)), labels] + 1e-15))\n",
    "\n",
    "\n",
    "def grad_batch(batch_imgs, probs, labels):\n",
    "    \"\"\"\n",
    "    Calcul vectorisé des gradients pour les poids et les biais.\n",
    "    \"\"\"\n",
    "    probs[np.arange(len(labels)), labels] -= 1\n",
    "    grad_W = batch_imgs.T @ probs / len(labels)\n",
    "    grad_b = np.sum(probs, axis=0) / len(labels)\n",
    "    return grad_W, grad_b\n"
   ]
  },
  {
   "cell_type": "code",
   "execution_count": 35,
   "metadata": {},
   "outputs": [],
   "source": [
    "## Initialisation des poids et biais\n",
    "def initialize(sigma=0.01):\n",
    "    \"\"\"\n",
    "    Initialise les poids et biais avec des valeurs aléatoires.\n",
    "    \"\"\"\n",
    "    W = np.random.normal(0, sigma, (IN_DIM, OUT_DIM))\n",
    "    b = np.zeros(OUT_DIM)\n",
    "    return W, b\n"
   ]
  },
  {
   "cell_type": "code",
   "execution_count": 36,
   "metadata": {},
   "outputs": [],
   "source": [
    "## Fonction d'évaluation vectorisée\n",
    "def evaluate_vec(W, b, ims, ys):\n",
    "    \"\"\"\n",
    "    Évalue la précision du modèle sur un dataset donné, en mode vectorisé.\n",
    "    \"\"\"\n",
    "    logits = ims @ W + b\n",
    "    predictions = np.argmax(softmax_batch(logits), axis=1)\n",
    "    return np.mean(predictions == ys)\n"
   ]
  },
  {
   "cell_type": "code",
   "execution_count": 37,
   "metadata": {},
   "outputs": [],
   "source": [
    "## Entraînement vectorisé\n",
    "def train_sgd_vec(lr=0.01, num_epochs=10, sigma=0.01, batch_size=64, W=None, b=None):\n",
    "    \"\"\"\n",
    "    Entraîne un modèle de régression softmax avec SGD vectorisé.\n",
    "    \"\"\"\n",
    "    print(f\"Training with vectorized SGD, lr={lr}, batch_size={batch_size}, num_epochs={num_epochs}\")\n",
    "\n",
    "    if W is None: \n",
    "        W, b = initialize(sigma=sigma)\n",
    "\n",
    "    train_losses = []\n",
    "    val_losses = []\n",
    "    val_accuracies = []\n",
    "\n",
    "    for epoch in range(num_epochs):\n",
    "        t0 = time.time()\n",
    "        train_loss = 0\n",
    "\n",
    "        # Boucle sur les batchs\n",
    "        for batch_imgs, batch_labels in create_batches(train_imgs_flat, train_labels, batch_size):\n",
    "            logits = batch_imgs @ W + b\n",
    "            probs = softmax_batch(logits)\n",
    "            train_loss += cross_entropy_loss_batch(probs, batch_labels)\n",
    "            grad_W, grad_b = grad_batch(batch_imgs, probs, batch_labels)\n",
    "            W -= lr * grad_W\n",
    "            b -= lr * grad_b\n",
    "\n",
    "        # Calcul des pertes et précisions\n",
    "        val_logits = val_imgs_flat @ W + b\n",
    "        val_probs = softmax_batch(val_logits)\n",
    "        val_loss = cross_entropy_loss_batch(val_probs, val_labels)\n",
    "        val_accuracy = evaluate_vec(W, b, val_imgs_flat, val_labels)\n",
    "\n",
    "        train_losses.append(train_loss)\n",
    "        val_losses.append(val_loss)\n",
    "        val_accuracies.append(val_accuracy)\n",
    "\n",
    "        print(f\"Epoch {epoch+1}/{num_epochs}, Train Loss: {train_loss:.4f}, Val Loss: {val_loss:.4f}, Val Accuracy: {val_accuracy:.2%}, Time: {time.time() - t0:.2f}s\")\n",
    "\n",
    "    return W, b, train_losses, val_losses, val_accuracies\n"
   ]
  },
  {
   "cell_type": "code",
   "execution_count": 38,
   "metadata": {},
   "outputs": [],
   "source": [
    "## Génération des batchs\n",
    "def create_batches(data, labels, batch_size):\n",
    "    \"\"\"\n",
    "    Génère des batchs aléatoires pour l'entraînement.\n",
    "    \"\"\"\n",
    "    indices = np.arange(data.shape[0])\n",
    "    np.random.shuffle(indices)\n",
    "    N = len(indices)\n",
    "    indices = indices[:(N // batch_size) * batch_size]  # Assurer un nombre divisible par la taille du batch\n",
    "    for s in range(0, len(indices), batch_size):\n",
    "        batch_indices = indices[s:s + batch_size]\n",
    "        yield data[batch_indices], labels[batch_indices]\n"
   ]
  },
  {
   "cell_type": "code",
   "execution_count": 39,
   "metadata": {},
   "outputs": [
    {
     "name": "stdout",
     "output_type": "stream",
     "text": [
      "Training with vectorized SGD, lr=0.01, batch_size=64, num_epochs=10\n",
      "Epoch 1/10, Train Loss: 901.8800, Val Loss: 0.7392, Val Accuracy: 75.83%, Time: 0.25s\n",
      "Epoch 2/10, Train Loss: 626.3845, Val Loss: 0.6480, Val Accuracy: 78.56%, Time: 0.28s\n",
      "Epoch 3/10, Train Loss: 565.7353, Val Loss: 0.6047, Val Accuracy: 80.03%, Time: 0.25s\n",
      "Epoch 4/10, Train Loss: 532.8893, Val Loss: 0.5810, Val Accuracy: 80.76%, Time: 0.28s\n",
      "Epoch 5/10, Train Loss: 511.5515, Val Loss: 0.5611, Val Accuracy: 81.09%, Time: 0.31s\n",
      "Epoch 6/10, Train Loss: 495.7676, Val Loss: 0.5489, Val Accuracy: 81.54%, Time: 0.27s\n",
      "Epoch 7/10, Train Loss: 484.1627, Val Loss: 0.5369, Val Accuracy: 81.89%, Time: 0.24s\n",
      "Epoch 8/10, Train Loss: 474.4444, Val Loss: 0.5290, Val Accuracy: 82.07%, Time: 0.28s\n",
      "Epoch 9/10, Train Loss: 466.5516, Val Loss: 0.5213, Val Accuracy: 82.31%, Time: 0.25s\n",
      "Epoch 10/10, Train Loss: 459.8180, Val Loss: 0.5169, Val Accuracy: 82.42%, Time: 0.28s\n",
      "Final Validation Accuracy: 82.42%\n"
     ]
    }
   ],
   "source": [
    "## Exécution de l'entraînement\n",
    "# Entraîner le modèle\n",
    "W_vec, b_vec, train_losses, val_losses, val_accuracies = train_sgd_vec(lr=0.01, num_epochs=10, batch_size=64)\n",
    "\n",
    "# Évaluer la précision finale sur le dataset de validation\n",
    "final_accuracy = evaluate_vec(W_vec, b_vec, val_imgs_flat, val_labels)\n",
    "print(f\"Final Validation Accuracy: {final_accuracy:.2%}\")\n"
   ]
  },
  {
   "cell_type": "code",
   "execution_count": 40,
   "metadata": {},
   "outputs": [
    {
     "data": {
      "image/png": "[encoded data removed]",
      "text/plain": [
       "<Figure size 1200x500 with 2 Axes>"
      ]
     },
     "metadata": {},
     "output_type": "display_data"
    }
   ],
   "source": [
    "## Affichage des courbes de perte et de précision\n",
    "# Afficher les courbes des pertes et précisions\n",
    "plt.figure(figsize=(12, 5))\n",
    "plt.subplot(1, 2, 1)\n",
    "plt.plot(train_losses, label='Train Loss')\n",
    "plt.plot(val_losses, label='Validation Loss')\n",
    "plt.title('Loss per Epoch')\n",
    "plt.xlabel('Epoch')\n",
    "plt.ylabel('Loss')\n",
    "plt.legend()\n",
    "\n",
    "plt.subplot(1, 2, 2)\n",
    "plt.plot(val_accuracies, label='Validation Accuracy')\n",
    "plt.title('Validation Accuracy per Epoch')\n",
    "plt.xlabel('Epoch')\n",
    "plt.ylabel('Accuracy')\n",
    "plt.legend()\n",
    "\n",
    "plt.tight_layout()\n",
    "plt.show()\n"
   ]
  },
  {
   "cell_type": "code",
   "execution_count": 44,
   "metadata": {},
   "outputs": [
    {
     "data": {
      "application/vnd.plotly.v1+json": {
       "config": {
        "plotlyServerURL": "https://plot.ly"
       },
       "data": [
        {
         "hovertemplate": "x: %{x}<br>y: %{y}<extra></extra>",
         "name": "0",
         "source": "data:image/png;base64,iVBORw0KGgoAAAANSUhEUgAAABwAAAAcCAAAAABXZoBIAAACA0lEQVR4XrXQz0tUURwF8PO997373rx545i/mpmSxkjLTRRmJIQLycBWIWHQyqJN6/6DFgXu2rTqfxCComivkkKhkYvSkNGhYSadod4P77v3vhaB46yjs/3A4XCA/x8CcjMAWQBABOs4Mn3uYRTEHxSIkQLvQK6nbuw63vTLWqrhm7ADJcbLnL27vLC2sXl1fGmZjhml0wvdicHqN0mFZPXOizYSkK6UQUoiNh+/qpmhU+3aFMBBMXJsP86Y6xNs4G3nWnicha39siHmaTMIdgTE4Zdiacsgb5xsINadK21MOe4WmYvsoHQS4/a++mK10ZL4HAvPGz4bc8/Xu/der1gAcUaJgQLeBJFI69xNkBh+sQUGnip5aIDJ52vRT2VUEGgXIUQwCwKAntJIcfZ8zJJM1Ra90lvyJ03Lro0SJp70d2veVJ6kaHNuLXeijO3crzDjd3nEl0tKh+ARkO+bv/moGn/fHu6Vdk7oM/Tg2ZbvO7DzlWo/K9x2h7JjY0wyAbKvWbVKV1zxRdf+jh/FanGj3CObiZa2ITFi7aWVbF+zUbcc282xxmhQOXAaiUoyhdYl69Pi/ep27AtX8EOdhj+MtmJfNpuJGqoRcOvxyXpTc2FxSm1b2ASqQZjC+hwxA0w9HcgzbmmqpXvmN0eahOz95tLfEwBc6D84vSO3jp7+x/wBaCTYdmFTX7IAAAAASUVORK5CYII=",
         "type": "image",
         "xaxis": "x",
         "yaxis": "y"
        }
       ],
       "layout": {
        "template": {
         "data": {
          "bar": [
           {
            "error_x": {
             "color": "#2a3f5f"
            },
            "error_y": {
             "color": "#2a3f5f"
            },
            "marker": {
             "line": {
              "color": "#E5ECF6",
              "width": 0.5
             },
             "pattern": {
              "fillmode": "overlay",
              "size": 10,
              "solidity": 0.2
             }
            },
            "type": "bar"
           }
          ],
          "barpolar": [
           {
            "marker": {
             "line": {
              "color": "#E5ECF6",
              "width": 0.5
             },
             "pattern": {
              "fillmode": "overlay",
              "size": 10,
              "solidity": 0.2
             }
            },
            "type": "barpolar"
           }
          ],
          "carpet": [
           {
            "aaxis": {
             "endlinecolor": "#2a3f5f",
             "gridcolor": "white",
             "linecolor": "white",
             "minorgridcolor": "white",
             "startlinecolor": "#2a3f5f"
            },
            "baxis": {
             "endlinecolor": "#2a3f5f",
             "gridcolor": "white",
             "linecolor": "white",
             "minorgridcolor": "white",
             "startlinecolor": "#2a3f5f"
            },
            "type": "carpet"
           }
          ],
          "choropleth": [
           {
            "colorbar": {
             "outlinewidth": 0,
             "ticks": ""
            },
            "type": "choropleth"
           }
          ],
          "contour": [
           {
            "colorbar": {
             "outlinewidth": 0,
             "ticks": ""
            },
            "colorscale": [
             [
              0,
              "#0d0887"
             ],
             [
              0.1111111111111111,
              "#46039f"
             ],
             [
              0.2222222222222222,
              "#7201a8"
             ],
             [
              0.3333333333333333,
              "#9c179e"
             ],
             [
              0.4444444444444444,
              "#bd3786"
             ],
             [
              0.5555555555555556,
              "#d8576b"
             ],
             [
              0.6666666666666666,
              "#ed7953"
             ],
             [
              0.7777777777777778,
              "#fb9f3a"
             ],
             [
              0.8888888888888888,
              "#fdca26"
             ],
             [
              1,
              "#f0f921"
             ]
            ],
            "type": "contour"
           }
          ],
          "contourcarpet": [
           {
            "colorbar": {
             "outlinewidth": 0,
             "ticks": ""
            },
            "type": "contourcarpet"
           }
          ],
          "heatmap": [
           {
            "colorbar": {
             "outlinewidth": 0,
             "ticks": ""
            },
            "colorscale": [
             [
              0,
              "#0d0887"
             ],
             [
              0.1111111111111111,
              "#46039f"
             ],
             [
              0.2222222222222222,
              "#7201a8"
             ],
             [
              0.3333333333333333,
              "#9c179e"
             ],
             [
              0.4444444444444444,
              "#bd3786"
             ],
             [
              0.5555555555555556,
              "#d8576b"
             ],
             [
              0.6666666666666666,
              "#ed7953"
             ],
             [
              0.7777777777777778,
              "#fb9f3a"
             ],
             [
              0.8888888888888888,
              "#fdca26"
             ],
             [
              1,
              "#f0f921"
             ]
            ],
            "type": "heatmap"
           }
          ],
          "heatmapgl": [
           {
            "colorbar": {
             "outlinewidth": 0,
             "ticks": ""
            },
            "colorscale": [
             [
              0,
              "#0d0887"
             ],
             [
              0.1111111111111111,
              "#46039f"
             ],
             [
              0.2222222222222222,
              "#7201a8"
             ],
             [
              0.3333333333333333,
              "#9c179e"
             ],
             [
              0.4444444444444444,
              "#bd3786"
             ],
             [
              0.5555555555555556,
              "#d8576b"
             ],
             [
              0.6666666666666666,
              "#ed7953"
             ],
             [
              0.7777777777777778,
              "#fb9f3a"
             ],
             [
              0.8888888888888888,
              "#fdca26"
             ],
             [
              1,
              "#f0f921"
             ]
            ],
            "type": "heatmapgl"
           }
          ],
          "histogram": [
           {
            "marker": {
             "pattern": {
              "fillmode": "overlay",
              "size": 10,
              "solidity": 0.2
             }
            },
            "type": "histogram"
           }
          ],
          "histogram2d": [
           {
            "colorbar": {
             "outlinewidth": 0,
             "ticks": ""
            },
            "colorscale": [
             [
              0,
              "#0d0887"
             ],
             [
              0.1111111111111111,
              "#46039f"
             ],
             [
              0.2222222222222222,
              "#7201a8"
             ],
             [
              0.3333333333333333,
              "#9c179e"
             ],
             [
              0.4444444444444444,
              "#bd3786"
             ],
             [
              0.5555555555555556,
              "#d8576b"
             ],
             [
              0.6666666666666666,
              "#ed7953"
             ],
             [
              0.7777777777777778,
              "#fb9f3a"
             ],
             [
              0.8888888888888888,
              "#fdca26"
             ],
             [
              1,
              "#f0f921"
             ]
            ],
            "type": "histogram2d"
           }
          ],
          "histogram2dcontour": [
           {
            "colorbar": {
             "outlinewidth": 0,
             "ticks": ""
            },
            "colorscale": [
             [
              0,
              "#0d0887"
             ],
             [
              0.1111111111111111,
              "#46039f"
             ],
             [
              0.2222222222222222,
              "#7201a8"
             ],
             [
              0.3333333333333333,
              "#9c179e"
             ],
             [
              0.4444444444444444,
              "#bd3786"
             ],
             [
              0.5555555555555556,
              "#d8576b"
             ],
             [
              0.6666666666666666,
              "#ed7953"
             ],
             [
              0.7777777777777778,
              "#fb9f3a"
             ],
             [
              0.8888888888888888,
              "#fdca26"
             ],
             [
              1,
              "#f0f921"
             ]
            ],
            "type": "histogram2dcontour"
           }
          ],
          "mesh3d": [
           {
            "colorbar": {
             "outlinewidth": 0,
             "ticks": ""
            },
            "type": "mesh3d"
           }
          ],
          "parcoords": [
           {
            "line": {
             "colorbar": {
              "outlinewidth": 0,
              "ticks": ""
             }
            },
            "type": "parcoords"
           }
          ],
          "pie": [
           {
            "automargin": true,
            "type": "pie"
           }
          ],
          "scatter": [
           {
            "fillpattern": {
             "fillmode": "overlay",
             "size": 10,
             "solidity": 0.2
            },
            "type": "scatter"
           }
          ],
          "scatter3d": [
           {
            "line": {
             "colorbar": {
              "outlinewidth": 0,
              "ticks": ""
             }
            },
            "marker": {
             "colorbar": {
              "outlinewidth": 0,
              "ticks": ""
             }
            },
            "type": "scatter3d"
           }
          ],
          "scattercarpet": [
           {
            "marker": {
             "colorbar": {
              "outlinewidth": 0,
              "ticks": ""
             }
            },
            "type": "scattercarpet"
           }
          ],
          "scattergeo": [
           {
            "marker": {
             "colorbar": {
              "outlinewidth": 0,
              "ticks": ""
             }
            },
            "type": "scattergeo"
           }
          ],
          "scattergl": [
           {
            "marker": {
             "colorbar": {
              "outlinewidth": 0,
              "ticks": ""
             }
            },
            "type": "scattergl"
           }
          ],
          "scattermapbox": [
           {
            "marker": {
             "colorbar": {
              "outlinewidth": 0,
              "ticks": ""
             }
            },
            "type": "scattermapbox"
           }
          ],
          "scatterpolar": [
           {
            "marker": {
             "colorbar": {
              "outlinewidth": 0,
              "ticks": ""
             }
            },
            "type": "scatterpolar"
           }
          ],
          "scatterpolargl": [
           {
            "marker": {
             "colorbar": {
              "outlinewidth": 0,
              "ticks": ""
             }
            },
            "type": "scatterpolargl"
           }
          ],
          "scatterternary": [
           {
            "marker": {
             "colorbar": {
              "outlinewidth": 0,
              "ticks": ""
             }
            },
            "type": "scatterternary"
           }
          ],
          "surface": [
           {
            "colorbar": {
             "outlinewidth": 0,
             "ticks": ""
            },
            "colorscale": [
             [
              0,
              "#0d0887"
             ],
             [
              0.1111111111111111,
              "#46039f"
             ],
             [
              0.2222222222222222,
              "#7201a8"
             ],
             [
              0.3333333333333333,
              "#9c179e"
             ],
             [
              0.4444444444444444,
              "#bd3786"
             ],
             [
              0.5555555555555556,
              "#d8576b"
             ],
             [
              0.6666666666666666,
              "#ed7953"
             ],
             [
              0.7777777777777778,
              "#fb9f3a"
             ],
             [
              0.8888888888888888,
              "#fdca26"
             ],
             [
              1,
              "#f0f921"
             ]
            ],
            "type": "surface"
           }
          ],
          "table": [
           {
            "cells": {
             "fill": {
              "color": "#EBF0F8"
             },
             "line": {
              "color": "white"
             }
            },
            "header": {
             "fill": {
              "color": "#C8D4E3"
             },
             "line": {
              "color": "white"
             }
            },
            "type": "table"
           }
          ]
         },
         "layout": {
          "annotationdefaults": {
           "arrowcolor": "#2a3f5f",
           "arrowhead": 0,
           "arrowwidth": 1
          },
          "autotypenumbers": "strict",
          "coloraxis": {
           "colorbar": {
            "outlinewidth": 0,
            "ticks": ""
           }
          },
          "colorscale": {
           "diverging": [
            [
             0,
             "#8e0152"
            ],
            [
             0.1,
             "#c51b7d"
            ],
            [
             0.2,
             "#de77ae"
            ],
            [
             0.3,
             "#f1b6da"
            ],
            [
             0.4,
             "#fde0ef"
            ],
            [
             0.5,
             "#f7f7f7"
            ],
            [
             0.6,
             "#e6f5d0"
            ],
            [
             0.7,
             "#b8e186"
            ],
            [
             0.8,
             "#7fbc41"
            ],
            [
             0.9,
             "#4d9221"
            ],
            [
             1,
             "#276419"
            ]
           ],
           "sequential": [
            [
             0,
             "#0d0887"
            ],
            [
             0.1111111111111111,
             "#46039f"
            ],
            [
             0.2222222222222222,
             "#7201a8"
            ],
            [
             0.3333333333333333,
             "#9c179e"
            ],
            [
             0.4444444444444444,
             "#bd3786"
            ],
            [
             0.5555555555555556,
             "#d8576b"
            ],
            [
             0.6666666666666666,
             "#ed7953"
            ],
            [
             0.7777777777777778,
             "#fb9f3a"
            ],
            [
             0.8888888888888888,
             "#fdca26"
            ],
            [
             1,
             "#f0f921"
            ]
           ],
           "sequentialminus": [
            [
             0,
             "#0d0887"
            ],
            [
             0.1111111111111111,
             "#46039f"
            ],
            [
             0.2222222222222222,
             "#7201a8"
            ],
            [
             0.3333333333333333,
             "#9c179e"
            ],
            [
             0.4444444444444444,
             "#bd3786"
            ],
            [
             0.5555555555555556,
             "#d8576b"
            ],
            [
             0.6666666666666666,
             "#ed7953"
            ],
            [
             0.7777777777777778,
             "#fb9f3a"
            ],
            [
             0.8888888888888888,
             "#fdca26"
            ],
            [
             1,
             "#f0f921"
            ]
           ]
          },
          "colorway": [
           "#636efa",
           "#EF553B",
           "#00cc96",
           "#ab63fa",
           "#FFA15A",
           "#19d3f3",
           "#FF6692",
           "#B6E880",
           "#FF97FF",
           "#FECB52"
          ],
          "font": {
           "color": "#2a3f5f"
          },
          "geo": {
           "bgcolor": "white",
           "lakecolor": "white",
           "landcolor": "#E5ECF6",
           "showlakes": true,
           "showland": true,
           "subunitcolor": "white"
          },
          "hoverlabel": {
           "align": "left"
          },
          "hovermode": "closest",
          "mapbox": {
           "style": "light"
          },
          "paper_bgcolor": "white",
          "plot_bgcolor": "#E5ECF6",
          "polar": {
           "angularaxis": {
            "gridcolor": "white",
            "linecolor": "white",
            "ticks": ""
           },
           "bgcolor": "#E5ECF6",
           "radialaxis": {
            "gridcolor": "white",
            "linecolor": "white",
            "ticks": ""
           }
          },
          "scene": {
           "xaxis": {
            "backgroundcolor": "#E5ECF6",
            "gridcolor": "white",
            "gridwidth": 2,
            "linecolor": "white",
            "showbackground": true,
            "ticks": "",
            "zerolinecolor": "white"
           },
           "yaxis": {
            "backgroundcolor": "#E5ECF6",
            "gridcolor": "white",
            "gridwidth": 2,
            "linecolor": "white",
            "showbackground": true,
            "ticks": "",
            "zerolinecolor": "white"
           },
           "zaxis": {
            "backgroundcolor": "#E5ECF6",
            "gridcolor": "white",
            "gridwidth": 2,
            "linecolor": "white",
            "showbackground": true,
            "ticks": "",
            "zerolinecolor": "white"
           }
          },
          "shapedefaults": {
           "line": {
            "color": "#2a3f5f"
           }
          },
          "ternary": {
           "aaxis": {
            "gridcolor": "white",
            "linecolor": "white",
            "ticks": ""
           },
           "baxis": {
            "gridcolor": "white",
            "linecolor": "white",
            "ticks": ""
           },
           "bgcolor": "#E5ECF6",
           "caxis": {
            "gridcolor": "white",
            "linecolor": "white",
            "ticks": ""
           }
          },
          "title": {
           "x": 0.05
          },
          "xaxis": {
           "automargin": true,
           "gridcolor": "white",
           "linecolor": "white",
           "ticks": "",
           "title": {
            "standoff": 15
           },
           "zerolinecolor": "white",
           "zerolinewidth": 2
          },
          "yaxis": {
           "automargin": true,
           "gridcolor": "white",
           "linecolor": "white",
           "ticks": "",
           "title": {
            "standoff": 15
           },
           "zerolinecolor": "white",
           "zerolinewidth": 2
          }
         }
        },
        "title": {
         "text": "ankle boot"
        },
        "width": 300,
        "xaxis": {
         "anchor": "y",
         "domain": [
          0,
          1
         ]
        },
        "yaxis": {
         "anchor": "x",
         "domain": [
          0,
          1
         ]
        }
       }
      }
     },
     "metadata": {},
     "output_type": "display_data"
    }
   ],
   "source": [
    "## Visualisation d'une image\n",
    "# Afficher une image et son étiquette\n",
    "# Chargement des données\n",
    "train_imgs = load_images()\n",
    "train_labels = load_labels()\n",
    "show(0)  # Changez l'index pour voir d'autres exemples\n"
   ]
  }
 ],
 "metadata": {
  "kernelspec": {
   "display_name": "Python 3",
   "language": "python",
   "name": "python3"
  },
  "language_info": {
   "codemirror_mode": {
    "name": "ipython",
    "version": 3
   },
   "file_extension": ".py",
   "mimetype": "text/x-python",
   "name": "python",
   "nbconvert_exporter": "python",
   "pygments_lexer": "ipython3",
   "version": "3.9.6"
  }
 },
 "nbformat": 4,
 "nbformat_minor": 2
}
